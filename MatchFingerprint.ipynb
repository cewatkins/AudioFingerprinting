{
 "cells": [
  {
   "cell_type": "code",
   "execution_count": 9,
   "metadata": {},
   "outputs": [],
   "source": [
    "import pickle\n",
    "import numpy as np\n",
    "import collections\n",
    "\n",
    "    \n",
    "with open(\"dictionary.pkl\", mode=\"rb\") as opened_file:\n",
    "    my_loaded_dictionary = pickle.load(opened_file)"
   ]
  },
  {
   "cell_type": "code",
   "execution_count": 5,
   "metadata": {},
   "outputs": [],
   "source": [
    "\n",
    "def matchFingerprint(fn, fni, dT, t, dictionary):\n",
    "    \"\"\"Welcome to match fingerprint in dictionary.\n",
    "\n",
    "    Args:\n",
    "        (fn,fn+1,dT) : The fingerprint\n",
    "        songName : A string lol, im not really laughing tho\n",
    "        t : The time for the fingerprint\n",
    "        dictionary : The dictionary\n",
    "    Returns:\n",
    "        values : list containing all the tuples (songName(string),offset)\n",
    "    \"\"\"\n",
    "    values = []\n",
    "    key = (fn,fni,dT)\n",
    "    if key in dictionary:\n",
    "        for name, time in dictionary[key]:\n",
    "            values.append((name, time - t))\n",
    "    return values"
   ]
  },
  {
   "cell_type": "code",
   "execution_count": 7,
   "metadata": {},
   "outputs": [],
   "source": [
    "\n",
    "def incrementCounter(counter, values):\n",
    "    \"\"\"Welcome to increment counter.\n",
    "\n",
    "    Args:\n",
    "        counter : The counter\n",
    "        values : The list containing song name and offset. You can use the output of matchFingerprint\n",
    "    \"\"\"\n",
    "    for obj in values:\n",
    "        counter[obj] += 1"
   ]
  },
  {
   "cell_type": "code",
   "execution_count": 10,
   "metadata": {},
   "outputs": [],
   "source": [
    "def fingerprintToCounter(fingerprints):\n",
    "    \"\"\"Welcome to fingerprintToCounter.\n",
    "\n",
    "    Args:\n",
    "        fingerprints : the fingerprints (size 4)\n",
    "        dictionary : the dictionary, opened only once\n",
    "    Returns:\n",
    "        counter : a counter object with (name, offset) -> count\n",
    "    \"\"\"\n",
    "    with open(\"dictionary.pkl\", mode=\"rb\") as opened_file:\n",
    "        my_loaded_dictionary = pickle.load(opened_file)\n",
    "    counter =  Counter()\n",
    "    for element in fingerprints:\n",
    "        incrementCounter(counter, matchFingerprint(*element, my_loaded_dictionary))\n",
    "    return counter"
   ]
  }
 ],
 "metadata": {
  "kernelspec": {
   "display_name": "Python 3",
   "language": "python",
   "name": "python3"
  },
  "language_info": {
   "codemirror_mode": {
    "name": "ipython",
    "version": 3
   },
   "file_extension": ".py",
   "mimetype": "text/x-python",
   "name": "python",
   "nbconvert_exporter": "python",
   "pygments_lexer": "ipython3",
   "version": "3.6.5"
  }
 },
 "nbformat": 4,
 "nbformat_minor": 2
}
