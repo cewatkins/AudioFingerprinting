{
 "cells": [
  {
   "cell_type": "code",
   "execution_count": 41,
   "metadata": {
    "collapsed": true
   },
   "outputs": [],
   "source": [
    "def mp3_to_digital(local_song_path, song_name):\n",
    "    \"\"\"\n",
    "    Parameters: song path, song name\n",
    "                song path: the local path of the song (str)\n",
    "                song name: the name of the song (str)\n",
    "    --------\n",
    "    Returns: name of song, numpy array of song, and time samples (tuple)\n",
    "    \"\"\"    \n",
    "    import numpy as np\n",
    "    import urllib\n",
    "    import librosa\n",
    "    import numpy as np\n",
    "    from IPython.display import Audio\n",
    "    \n",
    "    samples, fs = librosa.load(local_song_path, sr=44100, mono=True)\n",
    "    times = np.arange(len(samples)) * 44100\n",
    "    if np.max(np.abs(samples)) == 1:\n",
    "        samples = samples*(2**15)\n",
    "    \n",
    "    return (song_name, samples, times)\n",
    "\n",
    "def mic_to_digital(listen_time=30):\n",
    "    \"\"\"Records for specified amount of time (in secs) and returns digitized audio and time samples as numpy arrays\"\"\"\n",
    "    \n",
    "    import numpy as np\n",
    "    from IPython.display import Audio\n",
    "    import microphone\n",
    "    from microphone import record_audio\n",
    "    \n",
    "    frames, sample_rate = record_audio(listen_time)\n",
    "    samples = np.hstack([np.frombuffer(i, np.int16) for i in frames])\n",
    "    times = np.arange(len(samples)) * sample_rate\n",
    "    return (samples, times)"
   ]
  },
  {
   "cell_type": "code",
   "execution_count": null,
   "metadata": {
    "collapsed": true
   },
   "outputs": [],
   "source": []
  }
 ],
 "metadata": {
  "kernelspec": {
   "display_name": "Python 3",
   "language": "python",
   "name": "python3"
  },
  "language_info": {
   "codemirror_mode": {
    "name": "ipython",
    "version": 3
   },
   "file_extension": ".py",
   "mimetype": "text/x-python",
   "name": "python",
   "nbconvert_exporter": "python",
   "pygments_lexer": "ipython3",
   "version": "3.6.3"
  }
 },
 "nbformat": 4,
 "nbformat_minor": 2
}
