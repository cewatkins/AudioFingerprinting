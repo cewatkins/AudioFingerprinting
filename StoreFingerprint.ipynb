{
 "cells": [
  {
   "cell_type": "code",
   "execution_count": 31,
   "metadata": {},
   "outputs": [],
   "source": [
    "import pickle\n",
    "import numpy as np\n",
    "\n",
    "\n",
    "    \n",
    "with open(\"dictionary.pkl\", mode=\"rb\") as opened_file:\n",
    "    my_loaded_dictionary = pickle.load(opened_file)"
   ]
  },
  {
   "cell_type": "code",
   "execution_count": 35,
   "metadata": {},
   "outputs": [],
   "source": [
    "\n",
    "def addFingerprint(fn, fni, dT, t, songName, dictionary):\n",
    "    \"\"\"Welcome to adding fingerprint in dictionary.\n",
    "\n",
    "    Args:\n",
    "        (fn,fn+1,dT) : The fingerprint\n",
    "        t : The time for the fingerprint\n",
    "        songName : A string lol, im not really laughing tho\n",
    "\n",
    "        dictionary : The dictionary\n",
    "\n",
    "    \"\"\"\n",
    "    key = (fn,fni,dT)\n",
    "    if key in dictionary:\n",
    "        dictionary[key].append((songName, t))\n",
    "    else:\n",
    "        dictionary[key] = [(songName, t)]"
   ]
  },
  {
   "cell_type": "code",
   "execution_count": 36,
   "metadata": {},
   "outputs": [],
   "source": [
    "def addFingerprints(fingerprints, songName):\n",
    "    \"\"\"Welcome to adding fingerprint in dictionary.\n",
    "\n",
    "    Args:\n",
    "        fingerprints : The fingerprints (size 4)\n",
    "        \n",
    "        dictionary : The dictionary\n",
    "\n",
    "        songName : A string lol, im not really laughing tho\n",
    "        \n",
    "    AUTO UPDATES AND OPENS DICTIONARY\n",
    "\n",
    "    \"\"\"\n",
    "    with open(\"dictionary.pkl\", mode=\"rb\") as opened_file:\n",
    "        my_loaded_dictionary = pickle.load(opened_file)\n",
    "    for i in fingerprints:\n",
    "        addFingerprint(*i, songName, my_loaded_dictionary)\n",
    "    with open(\"dictionary.pkl\", mode=\"wb\") as opened_file:\n",
    "        pickle.dump(my_loaded_dictionary, opened_file)"
   ]
  },
  {
   "cell_type": "code",
   "execution_count": null,
   "metadata": {},
   "outputs": [],
   "source": []
  }
 ],
 "metadata": {
  "kernelspec": {
   "display_name": "Python 3",
   "language": "python",
   "name": "python3"
  },
  "language_info": {
   "codemirror_mode": {
    "name": "ipython",
    "version": 3
   },
   "file_extension": ".py",
   "mimetype": "text/x-python",
   "name": "python",
   "nbconvert_exporter": "python",
   "pygments_lexer": "ipython3",
   "version": "3.6.5"
  }
 },
 "nbformat": 4,
 "nbformat_minor": 2
}
