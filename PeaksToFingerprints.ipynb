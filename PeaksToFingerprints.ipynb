{
 "cells": [
  {
   "cell_type": "code",
   "execution_count": 116,
   "metadata": {},
   "outputs": [],
   "source": [
    "import numpy as np\n",
    "from mygrad import sliding_window_view"
   ]
  },
  {
   "cell_type": "code",
   "execution_count": 97,
   "metadata": {},
   "outputs": [],
   "source": [
    "def lolMeme(freqs, times,fp, i):\n",
    "    fp.extend(list(zip(freqs[:-i], freqs[i:], times[i:]-times[:-i], times[i:])))"
   ]
  },
  {
   "cell_type": "code",
   "execution_count": 183,
   "metadata": {},
   "outputs": [],
   "source": [
    "\n",
    "def peaksToFingerprints(times,freqs, fn=15, songName = \"None\"):\n",
    "    \"\"\"Welcome to peaksToFingerprints.\n",
    "\n",
    "    Args:\n",
    "        local_peaks : The list of local peaks (a boolean array)\n",
    "        fn : \n",
    "    Returns:\n",
    "        fingerprints : a np array with all fingerprints (size 4)\n",
    "    \"\"\"\n",
    "    \n",
    "    \n",
    "    #times, freqs = np.where(local_peaks.T)\n",
    "    fp = []\n",
    "    f = sliding_window_view(freqs, window_shape=(len(freqs)-fn+1,), step = 1)\n",
    "    t = sliding_window_view(freqs, window_shape=(len(times)-fn+1,), step = 1)\n",
    "    fp.extend(list(zip(np.tile(freqs[:-fn], fn), f.flatten(), (t-times[np.newaxis, :-fn+1]).flatten(), np.tile(times[:-fn], fn))))\n",
    "    return fp"
   ]
  },
  {
   "cell_type": "code",
   "execution_count": 184,
   "metadata": {},
   "outputs": [
    {
     "data": {
      "text/plain": [
       "[(0, 0, 0, 0),\n",
       " (1, 1, 0, 1),\n",
       " (2, 2, 0, 2),\n",
       " (3, 3, 0, 3),\n",
       " (4, 4, 0, 4),\n",
       " (5, 5, 0, 5),\n",
       " (6, 6, 0, 6),\n",
       " (7, 7, 0, 7),\n",
       " (0, 8, 0, 0),\n",
       " (1, 1, 1, 1),\n",
       " (2, 2, 1, 2),\n",
       " (3, 3, 1, 3),\n",
       " (4, 4, 1, 4),\n",
       " (5, 5, 1, 5),\n",
       " (6, 6, 1, 6),\n",
       " (7, 7, 1, 7)]"
      ]
     },
     "execution_count": 184,
     "metadata": {},
     "output_type": "execute_result"
    }
   ],
   "source": [
    "freqs = np.arange(10)\n",
    "times = np.arange(10)\n",
    "peaksToFingerprints(times,freqs, fn = 2)"
   ]
  },
  {
   "cell_type": "code",
   "execution_count": 147,
   "metadata": {},
   "outputs": [
    {
     "name": "stdout",
     "output_type": "stream",
     "text": [
      "[(1, 2), (2, 3)]\n"
     ]
    }
   ],
   "source": [
    "x = list(zip(np.arange(1,3), np.arange(2,6)))\n",
    "print(x)\n",
    "x.extend([[1,2],[3,4]])\n",
    "x[:-1-1] \n",
    "x[1:]\n",
    "a = np.arange(0,100)\n",
    "b = sliding_window_view(a, window_shape=(len(a)-15,) , step = 1)\n",
    "\n"
   ]
  },
  {
   "cell_type": "code",
   "execution_count": null,
   "metadata": {},
   "outputs": [],
   "source": []
  }
 ],
 "metadata": {
  "kernelspec": {
   "display_name": "Python 3",
   "language": "python",
   "name": "python3"
  },
  "language_info": {
   "codemirror_mode": {
    "name": "ipython",
    "version": 3
   },
   "file_extension": ".py",
   "mimetype": "text/x-python",
   "name": "python",
   "nbconvert_exporter": "python",
   "pygments_lexer": "ipython3",
   "version": "3.6.5"
  }
 },
 "nbformat": 4,
 "nbformat_minor": 2
}
